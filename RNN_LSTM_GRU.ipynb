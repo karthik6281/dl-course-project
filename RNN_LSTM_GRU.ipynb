{
 "cells": [
  {
   "cell_type": "code",
   "execution_count": 1,
   "id": "ef1e0ce3",
   "metadata": {},
   "outputs": [],
   "source": [
    "import numpy as np\n",
    "import torch\n",
    "import matplotlib.pyplot as plt\n",
    "import torch.nn as nn\n",
    "import time\n",
    "begin = time.time()"
   ]
  },
  {
   "cell_type": "markdown",
   "id": "799b1550",
   "metadata": {},
   "source": [
    "# DATASET CREATION"
   ]
  },
  {
   "cell_type": "code",
   "execution_count": 2,
   "id": "5050695c",
   "metadata": {},
   "outputs": [],
   "source": [
    "#creates a sequence of length between 2 and 15---------------\n",
    "def create_sequence():\n",
    "    size_of_input = torch.randint(2, 10, (1,))\n",
    "    input_ = torch.rand(size_of_input,2)\n",
    "    num1 = torch.randint(0, size_of_input[0], size=(1,))\n",
    "    num2 = torch.randint(0, size_of_input[0], size=(1,))\n",
    "    if num1 == num2 :\n",
    "        if num1 == 0 :\n",
    "            num2 = num2+1\n",
    "        elif num2 == size_of_input-1:\n",
    "            num2 = num2-1\n",
    "    for i in range(size_of_input):\n",
    "        if i==num1 or i==num2 :\n",
    "            input_[i][1] = 1\n",
    "        else :\n",
    "            input_[i][1] = 0\n",
    "    \n",
    "    return input_\n",
    "#-------------------------------------------------------------\n",
    "\n",
    "#creates a label according to the question--------------------\n",
    "def create_label(point):\n",
    "    label = 0\n",
    "    count = 0 \n",
    "    for i in range(point.size(0)):\n",
    "        if(count == 2):\n",
    "            break ;\n",
    "        elif(point[i][1] == 1):\n",
    "            label = label+point[i][0]\n",
    "            count = count + 1\n",
    "    return label\n",
    "#--------------------------------------------------------------\n",
    "\n",
    "#creates datapoints--------------------------------------------\n",
    "def create_data(total_points):\n",
    "    points = torch.empty(total_points,15,2)\n",
    "    points_label = torch.empty(total_points,1)\n",
    "    for i in range(total_points):\n",
    "        input_ = create_sequence()\n",
    "        output_ = create_label(input_)\n",
    "        points_label[i][0] = output_\n",
    "        size = input_.size(0)\n",
    "        padded_input = torch.nn.functional.pad(input_, (0, 0, 0,(15-size)), mode='constant', value=-1)\n",
    "        points[i,:,:] = padded_input\n",
    "    return points,points_label\n",
    "#---------------------------------------------------------------"
   ]
  },
  {
   "cell_type": "markdown",
   "id": "1b6b35d9",
   "metadata": {},
   "source": [
    "**Training and Testing set**"
   ]
  },
  {
   "cell_type": "code",
   "execution_count": 3,
   "id": "47db34e4",
   "metadata": {},
   "outputs": [],
   "source": [
    "train_set,train_label = create_data(6000)\n",
    "test_set,test_label = create_data(3000)\n"
   ]
  },
  {
   "cell_type": "code",
   "execution_count": 4,
   "id": "46d7de7b",
   "metadata": {},
   "outputs": [
    {
     "data": {
      "text/plain": [
       "(tensor([[ 0.8917,  0.0000],\n",
       "         [ 0.4167,  0.0000],\n",
       "         [ 0.0722,  0.0000],\n",
       "         [ 0.5723,  1.0000],\n",
       "         [ 0.8644,  0.0000],\n",
       "         [ 0.7592,  0.0000],\n",
       "         [ 0.5142,  1.0000],\n",
       "         [ 0.5646,  0.0000],\n",
       "         [ 0.3167,  0.0000],\n",
       "         [-1.0000, -1.0000],\n",
       "         [-1.0000, -1.0000],\n",
       "         [-1.0000, -1.0000],\n",
       "         [-1.0000, -1.0000],\n",
       "         [-1.0000, -1.0000],\n",
       "         [-1.0000, -1.0000]]),\n",
       " tensor([1.0865]))"
      ]
     },
     "execution_count": 4,
     "metadata": {},
     "output_type": "execute_result"
    }
   ],
   "source": [
    "train_set[0],train_label[0]"
   ]
  },
  {
   "cell_type": "markdown",
   "id": "052504e4",
   "metadata": {},
   "source": [
    "# RNN"
   ]
  },
  {
   "cell_type": "code",
   "execution_count": 5,
   "id": "82107b90",
   "metadata": {},
   "outputs": [],
   "source": [
    "class RNN(nn.Module):\n",
    "    def __init__(self,hidden_size):\n",
    "        super().__init__()\n",
    "        self.U = nn.Parameter(torch.randn((hidden_size,2),\n",
    "                                           requires_grad=True,\n",
    "                                           dtype=torch.float)/np.sqrt(2))\n",
    "        self.h = torch.zeros((hidden_size,1),\n",
    "                                        dtype=torch.float)\n",
    "        self.W = nn.Parameter(torch.randn((hidden_size,hidden_size),\n",
    "                                        requires_grad=True,\n",
    "                                        dtype=torch.float)/np.sqrt(hidden_size))\n",
    "        self.b = nn.Parameter(torch.zeros((hidden_size,1),\n",
    "                                        requires_grad=True,\n",
    "                                        dtype=torch.float))\n",
    "        self.c = nn.Parameter(torch.rand((1,1),\n",
    "                                        requires_grad=True,\n",
    "                                        dtype=torch.float))\n",
    "        self.V = nn.Parameter(torch.randn((1,hidden_size),\n",
    "                                        requires_grad=True,\n",
    "                                        dtype=torch.float)/np.sqrt(hidden_size))\n",
    "    def forward(self,x: torch.Tensor) -> torch.Tensor: # x is the input data\n",
    "        y = torch.empty(x.size(0),1)\n",
    "        for j in range(x.size(0)):\n",
    "            H = self.h\n",
    "            for i in range(x.size(1)):\n",
    "                if(x[j][i][0] == -1):\n",
    "                    break ;\n",
    "                I = torch.matmul(self.U,x[j,i,:].T).unsqueeze(1)\n",
    "                O = torch.matmul(self.W,H)\n",
    "                H = (I + O + self.b)\n",
    "                H  =torch.tanh(H)\n",
    "            Y = torch.matmul(self.V,H) + self.c\n",
    "            y[j,:] = torch.relu(Y)\n",
    "        return y"
   ]
  },
  {
   "cell_type": "code",
   "execution_count": 6,
   "id": "0fb28e1f",
   "metadata": {},
   "outputs": [
    {
     "data": {
      "text/plain": [
       "tensor([[0.],\n",
       "        [0.],\n",
       "        [0.],\n",
       "        [0.],\n",
       "        [0.]])"
      ]
     },
     "execution_count": 6,
     "metadata": {},
     "output_type": "execute_result"
    }
   ],
   "source": [
    "model_1 = RNN(5)#instatiating an object for RNN class\n",
    "model_1.h"
   ]
  },
  {
   "cell_type": "code",
   "execution_count": 7,
   "id": "2e47ab36",
   "metadata": {},
   "outputs": [
    {
     "data": {
      "text/plain": [
       "[Parameter containing:\n",
       " tensor([[ 0.3311, -0.0858],\n",
       "         [ 0.2456, -1.2341],\n",
       "         [-1.3302,  0.8481],\n",
       "         [ 0.6624,  0.0563],\n",
       "         [-0.0411,  0.3115]], requires_grad=True),\n",
       " Parameter containing:\n",
       " tensor([[ 0.6050,  0.1413, -0.8601, -0.3058,  0.4131],\n",
       "         [-0.6139,  0.4561,  0.9732, -0.5014,  0.3434],\n",
       "         [ 0.8125, -0.5529,  0.1972,  0.1168,  0.5531],\n",
       "         [ 0.0542, -0.6784,  0.1695,  0.2952, -0.1296],\n",
       "         [ 0.1278, -0.2069,  0.2728, -0.4752, -0.0931]], requires_grad=True),\n",
       " Parameter containing:\n",
       " tensor([[0.],\n",
       "         [0.],\n",
       "         [0.],\n",
       "         [0.],\n",
       "         [0.]], requires_grad=True),\n",
       " Parameter containing:\n",
       " tensor([[0.1604]], requires_grad=True),\n",
       " Parameter containing:\n",
       " tensor([[-0.4147, -0.9810,  0.3185,  0.1710,  0.5520]], requires_grad=True)]"
      ]
     },
     "execution_count": 7,
     "metadata": {},
     "output_type": "execute_result"
    }
   ],
   "source": [
    "list(model_1.parameters())"
   ]
  },
  {
   "cell_type": "code",
   "execution_count": 8,
   "id": "305cd338",
   "metadata": {},
   "outputs": [
    {
     "name": "stderr",
     "output_type": "stream",
     "text": [
      "/tmp/ipykernel_5784/3677997783.py:28: UserWarning: The use of `x.T` on tensors of dimension other than 2 to reverse their shape is deprecated and it will throw an error in a future release. Consider `x.mT` to transpose batches of matrices or `x.permute(*torch.arange(x.ndim - 1, -1, -1))` to reverse the dimensions of a tensor. (Triggered internally at ../aten/src/ATen/native/TensorShape.cpp:3277.)\n",
      "  I = torch.matmul(self.U,x[j,i,:].T).unsqueeze(1)\n"
     ]
    },
    {
     "data": {
      "text/plain": [
       "(tensor([[1.0970],\n",
       "         [1.1501],\n",
       "         [1.2984],\n",
       "         ...,\n",
       "         [1.7362],\n",
       "         [1.1003],\n",
       "         [1.3893]], grad_fn=<CopySlices>),\n",
       " tensor([[1.0865],\n",
       "         [1.0197],\n",
       "         [1.2747],\n",
       "         ...,\n",
       "         [0.2136],\n",
       "         [0.9517],\n",
       "         [1.8013]]))"
      ]
     },
     "execution_count": 8,
     "metadata": {},
     "output_type": "execute_result"
    }
   ],
   "source": [
    "y_pred = model_1(train_set)\n",
    "y_pred,train_label"
   ]
  },
  {
   "cell_type": "code",
   "execution_count": 9,
   "id": "ea1027cb",
   "metadata": {},
   "outputs": [],
   "source": [
    "#LOSS - MSELoss-----------------\n",
    "loss_fn = nn.MSELoss()\n",
    "#-------------------------------\n",
    "\n",
    "#SGD optimizer------------------------------------------------------\n",
    "optimizer = torch.optim.Adam(model_1.parameters(), lr=0.05)\n",
    "#--------------------------------------------------------------------"
   ]
  },
  {
   "cell_type": "code",
   "execution_count": 10,
   "id": "6c5f1a17",
   "metadata": {},
   "outputs": [
    {
     "data": {
      "text/plain": [
       "tensor(0.1844)"
      ]
     },
     "execution_count": 10,
     "metadata": {},
     "output_type": "execute_result"
    }
   ],
   "source": [
    "# y_pred = model_1(train_set)\n",
    "base_line_loss = loss_fn(train_label,torch.ones_like(train_label))\n",
    "base_line_loss = base_line_loss.detach()\n",
    "base_line_loss"
   ]
  },
  {
   "cell_type": "code",
   "execution_count": 11,
   "id": "08919a33",
   "metadata": {
    "scrolled": false
   },
   "outputs": [
    {
     "name": "stdout",
     "output_type": "stream",
     "text": [
      "Epoch: 0 | Train Loss : 0.5060364007949829 \n",
      "Epoch: 1 | Train Loss : 0.31902605295181274 \n",
      "Epoch: 2 | Train Loss : 0.23073138296604156 \n",
      "Epoch: 3 | Train Loss : 0.21576713025569916 \n",
      "Epoch: 4 | Train Loss : 0.20381653308868408 \n",
      "Epoch: 5 | Train Loss : 0.1927611529827118 \n",
      "Epoch: 6 | Train Loss : 0.19025419652462006 \n",
      "Epoch: 7 | Train Loss : 0.18750028312206268 \n",
      "Epoch: 8 | Train Loss : 0.18203523755073547 \n",
      "Epoch: 9 | Train Loss : 0.18060000240802765 \n",
      "Epoch: 10 | Train Loss : 0.18095609545707703 \n",
      "Epoch: 11 | Train Loss : 0.17852970957756042 \n",
      "Epoch: 12 | Train Loss : 0.17630507051944733 \n",
      "Epoch: 13 | Train Loss : 0.17663364112377167 \n",
      "Epoch: 14 | Train Loss : 0.17616623640060425 \n",
      "Epoch: 15 | Train Loss : 0.1740042269229889 \n",
      "Epoch: 16 | Train Loss : 0.17302769422531128 \n",
      "Epoch: 17 | Train Loss : 0.17297640442848206 \n",
      "Epoch: 18 | Train Loss : 0.1716776341199875 \n",
      "Epoch: 19 | Train Loss : 0.17015643417835236 \n",
      "Epoch: 20 | Train Loss : 0.16990704834461212 \n",
      "Epoch: 21 | Train Loss : 0.1694672852754593 \n",
      "Epoch: 22 | Train Loss : 0.16799114644527435 \n",
      "Epoch: 23 | Train Loss : 0.1669815331697464 \n",
      "Epoch: 24 | Train Loss : 0.16646942496299744 \n",
      "Epoch: 25 | Train Loss : 0.1651192456483841 \n",
      "Epoch: 26 | Train Loss : 0.16342873871326447 \n",
      "Epoch: 27 | Train Loss : 0.16208788752555847 \n",
      "Epoch: 28 | Train Loss : 0.1600581854581833 \n",
      "Epoch: 29 | Train Loss : 0.15728753805160522 \n",
      "Epoch: 30 | Train Loss : 0.1548692286014557 \n",
      "Epoch: 31 | Train Loss : 0.15255065262317657 \n",
      "Epoch: 32 | Train Loss : 0.15010792016983032 \n",
      "Epoch: 33 | Train Loss : 0.147934228181839 \n",
      "Epoch: 34 | Train Loss : 0.14538566768169403 \n",
      "Epoch: 35 | Train Loss : 0.14246071875095367 \n",
      "Epoch: 36 | Train Loss : 0.1405426263809204 \n",
      "Epoch: 37 | Train Loss : 0.1383935511112213 \n",
      "Epoch: 38 | Train Loss : 0.13668298721313477 \n",
      "Epoch: 39 | Train Loss : 0.13415323197841644 \n",
      "Epoch: 40 | Train Loss : 0.1315365433692932 \n",
      "Epoch: 41 | Train Loss : 0.12858539819717407 \n",
      "Epoch: 42 | Train Loss : 0.12576055526733398 \n",
      "Epoch: 43 | Train Loss : 0.12263622879981995 \n",
      "Epoch: 44 | Train Loss : 0.1180385947227478 \n",
      "Epoch: 45 | Train Loss : 0.11208304762840271 \n",
      "Epoch: 46 | Train Loss : 0.10553169995546341 \n",
      "Epoch: 47 | Train Loss : 0.09740807861089706 \n",
      "Epoch: 48 | Train Loss : 0.0910482406616211 \n",
      "Epoch: 49 | Train Loss : 0.09425225853919983 \n"
     ]
    }
   ],
   "source": [
    "epochs = 50\n",
    "rnn_loss_epoch = []\n",
    "epoch_count = []\n",
    "base_line = []\n",
    "#training loop\n",
    "for epoch in range(epochs):\n",
    "    model_1.train()\n",
    "    y_pred = model_1(train_set)\n",
    "    loss = loss_fn(y_pred,train_label)\n",
    "    rnn_loss_epoch.append(loss.clone().detach())\n",
    "    epoch_count.append(epoch)\n",
    "    base_line.append(base_line_loss)\n",
    "    optimizer.zero_grad()\n",
    "    loss.backward()\n",
    "    optimizer.step()                      \n",
    "    print(f\"Epoch: {epoch} | Train Loss : {loss} \")\n"
   ]
  },
  {
   "cell_type": "code",
   "execution_count": 12,
   "id": "6fe84532",
   "metadata": {},
   "outputs": [
    {
     "name": "stdout",
     "output_type": "stream",
     "text": [
      "after 50 Epochs , Test Loss : 0.14573055505752563\n"
     ]
    }
   ],
   "source": [
    "y_pred = model_1(test_set)\n",
    "rnn_test_loss = loss_fn(y_pred,test_label)\n",
    "print(f\"after {epochs} Epochs , Test Loss : {rnn_test_loss}\")"
   ]
  },
  {
   "cell_type": "markdown",
   "id": "57be76d6",
   "metadata": {},
   "source": [
    "# LSTM"
   ]
  },
  {
   "cell_type": "code",
   "execution_count": 13,
   "id": "d0faf2f5",
   "metadata": {},
   "outputs": [],
   "source": [
    "class LSTM(nn.Module):\n",
    "    def __init__(self,hidden_size):\n",
    "        super().__init__()\n",
    "        self.h0 = torch.zeros((hidden_size,1),\n",
    "                                        dtype=torch.float)\n",
    "        self.c0 = torch.zeros((hidden_size,1),\n",
    "                                        dtype=torch.float)\n",
    "        self.Uf = nn.Parameter(torch.randn((hidden_size,2),\n",
    "                                           requires_grad=True,\n",
    "                                           dtype=torch.float)/np.sqrt(2))\n",
    "        self.Wf = nn.Parameter(torch.randn((hidden_size,hidden_size),\n",
    "                                        requires_grad=True,\n",
    "                                        dtype=torch.float)/np.sqrt(hidden_size))\n",
    "        self.bf = nn.Parameter(torch.zeros((hidden_size,1),\n",
    "                                        requires_grad=True,\n",
    "                                        dtype=torch.float))\n",
    "        self.Ui = nn.Parameter(torch.randn((hidden_size,2),\n",
    "                                           requires_grad=True,\n",
    "                                           dtype=torch.float)/np.sqrt(2))\n",
    "        self.Wi = nn.Parameter(torch.randn((hidden_size,hidden_size),\n",
    "                                        requires_grad=True,\n",
    "                                        dtype=torch.float)/np.sqrt(hidden_size))\n",
    "        self.bi = nn.Parameter(torch.zeros((hidden_size,1),\n",
    "                                        requires_grad=True,\n",
    "                                        dtype=torch.float))\n",
    "        self.Uo = nn.Parameter(torch.randn((hidden_size,2),\n",
    "                                           requires_grad=True,\n",
    "                                           dtype=torch.float)/np.sqrt(2))\n",
    "        self.Wo = nn.Parameter(torch.randn((hidden_size,hidden_size),\n",
    "                                        requires_grad=True,\n",
    "                                        dtype=torch.float)/np.sqrt(hidden_size))\n",
    "        self.bo = nn.Parameter(torch.zeros((hidden_size,1),\n",
    "                                        requires_grad=True,\n",
    "                                        dtype=torch.float))\n",
    "        self.V = nn.Parameter(torch.randn((1,hidden_size),\n",
    "                                        requires_grad=True,\n",
    "                                        dtype=torch.float)/np.sqrt(hidden_size))\n",
    "        self.b = nn.Parameter(torch.rand((1,1),\n",
    "                                        requires_grad=True,\n",
    "                                        dtype=torch.float))\n",
    "        self.bc = nn.Parameter(torch.zeros((hidden_size,1),\n",
    "                                        requires_grad=True,\n",
    "                                        dtype=torch.float))\n",
    "        self.Wc = nn.Parameter(torch.randn((hidden_size,hidden_size),\n",
    "                                           requires_grad=True,\n",
    "                                           dtype=torch.float)/np.sqrt(hidden_size))\n",
    "        self.Uc = nn.Parameter(torch.randn((hidden_size,2),\n",
    "                                           requires_grad=True,\n",
    "                                           dtype=torch.float)/np.sqrt(2))\n",
    "        \n",
    "    def forward(self,x: torch.Tensor) -> torch.Tensor: # x is the input data\n",
    "        y = torch.empty(x.size(0),1)\n",
    "        for j in range(x.size(0)):\n",
    "            H = self.h0\n",
    "            C = self.c0\n",
    "            for i in range(x.size(1)):\n",
    "                if(x[j][i][0] == -1):\n",
    "                    break ;\n",
    "                F = torch.sigmoid(torch.matmul(self.Uf,x[j,i,:].T).unsqueeze(1) + torch.matmul(self.Wf,H) + self.bf)\n",
    "                I = torch.sigmoid(torch.matmul(self.Ui,x[j,i,:].T).unsqueeze(1) + torch.matmul(self.Wi,H) + self.bi)\n",
    "                O = torch.sigmoid(torch.matmul(self.Uo,x[j,i,:].T).unsqueeze(1) + torch.matmul(self.Wo,H) + self.bo)\n",
    "                C_ = torch.tanh(torch.matmul(self.Uc,x[j,i,:].T).unsqueeze(1) + torch.matmul(self.Wc,H) + self.bc)\n",
    "                C = torch.mul(F,C) + torch.mul(I,C_)\n",
    "                H = torch.mul(O,torch.tanh(C))\n",
    "            Y = torch.matmul(self.V,H) + self.b\n",
    "            y[j,:] = torch.relu(Y)\n",
    "        return y"
   ]
  },
  {
   "cell_type": "code",
   "execution_count": 14,
   "id": "d8c73ee6",
   "metadata": {},
   "outputs": [],
   "source": [
    "model_2 = LSTM(5)"
   ]
  },
  {
   "cell_type": "code",
   "execution_count": 15,
   "id": "72d73a04",
   "metadata": {},
   "outputs": [
    {
     "data": {
      "text/plain": [
       "[Parameter containing:\n",
       " tensor([[-0.0429, -0.0737],\n",
       "         [-1.5177, -0.9322],\n",
       "         [ 0.1839,  0.5235],\n",
       "         [ 1.3104,  0.6136],\n",
       "         [ 0.3485,  1.2686]], requires_grad=True),\n",
       " Parameter containing:\n",
       " tensor([[-0.4503, -0.2747, -0.1541,  0.1566,  0.4912],\n",
       "         [-0.1604,  0.0095,  0.1125,  0.2517,  0.6550],\n",
       "         [-0.1204, -0.5645,  0.2774,  0.3753, -0.5991],\n",
       "         [-0.2462, -0.2329, -0.4373,  1.0563,  0.0938],\n",
       "         [-0.1495, -0.6132,  0.4484,  0.3386,  0.3801]], requires_grad=True),\n",
       " Parameter containing:\n",
       " tensor([[0.],\n",
       "         [0.],\n",
       "         [0.],\n",
       "         [0.],\n",
       "         [0.]], requires_grad=True),\n",
       " Parameter containing:\n",
       " tensor([[ 0.1345, -0.9244],\n",
       "         [-0.2137,  0.0941],\n",
       "         [-0.6046, -0.2391],\n",
       "         [-1.0147, -0.7578],\n",
       "         [-0.3972, -0.6329]], requires_grad=True),\n",
       " Parameter containing:\n",
       " tensor([[ 0.4302,  0.6595,  0.2280, -0.0105, -0.2289],\n",
       "         [ 0.2763, -0.1081,  0.3112, -0.5658, -0.1971],\n",
       "         [-0.5027, -0.0147,  0.4839, -0.2379,  0.4157],\n",
       "         [-0.4569,  0.6003, -0.1513,  0.1894,  0.0027],\n",
       "         [ 0.2960, -0.2344, -0.2577, -0.0460, -0.3500]], requires_grad=True),\n",
       " Parameter containing:\n",
       " tensor([[0.],\n",
       "         [0.],\n",
       "         [0.],\n",
       "         [0.],\n",
       "         [0.]], requires_grad=True),\n",
       " Parameter containing:\n",
       " tensor([[ 0.4424,  1.3532],\n",
       "         [-0.0954,  0.0588],\n",
       "         [-0.3035, -0.1134],\n",
       "         [-0.6281,  0.3942],\n",
       "         [ 0.3740,  1.1223]], requires_grad=True),\n",
       " Parameter containing:\n",
       " tensor([[-0.1945, -0.0565, -0.1968,  0.2674, -0.1002],\n",
       "         [-0.3196, -0.0105,  0.7143,  0.1484, -0.6780],\n",
       "         [ 0.3449, -0.1338, -0.5486,  0.0685,  0.1050],\n",
       "         [ 0.0739,  0.0172, -0.3028, -0.3431, -0.0449],\n",
       "         [ 0.3184,  0.0422,  0.1666,  0.1570,  0.0629]], requires_grad=True),\n",
       " Parameter containing:\n",
       " tensor([[0.],\n",
       "         [0.],\n",
       "         [0.],\n",
       "         [0.],\n",
       "         [0.]], requires_grad=True),\n",
       " Parameter containing:\n",
       " tensor([[-1.0333, -0.1864, -0.1255, -0.8174,  0.2271]], requires_grad=True),\n",
       " Parameter containing:\n",
       " tensor([[0.5614]], requires_grad=True),\n",
       " Parameter containing:\n",
       " tensor([[0.],\n",
       "         [0.],\n",
       "         [0.],\n",
       "         [0.],\n",
       "         [0.]], requires_grad=True),\n",
       " Parameter containing:\n",
       " tensor([[-0.2928, -1.0037,  0.1195, -0.1617,  0.2596],\n",
       "         [-0.3565,  0.4920, -0.0787, -0.0186, -0.1907],\n",
       "         [-0.4972,  0.4251, -0.2592, -0.5083, -0.0057],\n",
       "         [ 0.2778,  0.2780, -0.3477, -0.9004,  0.0174],\n",
       "         [ 0.2112,  0.2728, -0.6829,  0.0074, -0.0607]], requires_grad=True),\n",
       " Parameter containing:\n",
       " tensor([[ 0.5024,  0.4353],\n",
       "         [ 0.0892,  0.0783],\n",
       "         [-0.8139, -1.0884],\n",
       "         [ 1.1697,  0.0456],\n",
       "         [ 0.8824, -0.4869]], requires_grad=True)]"
      ]
     },
     "execution_count": 15,
     "metadata": {},
     "output_type": "execute_result"
    }
   ],
   "source": [
    "list(model_2.parameters())"
   ]
  },
  {
   "cell_type": "code",
   "execution_count": 16,
   "id": "ea8fe671",
   "metadata": {},
   "outputs": [
    {
     "data": {
      "text/plain": [
       "(tensor([[0.3417],\n",
       "         [0.5224],\n",
       "         [0.2419],\n",
       "         ...,\n",
       "         [0.3572],\n",
       "         [0.4435],\n",
       "         [0.2288]], grad_fn=<CopySlices>),\n",
       " tensor([[1.0865],\n",
       "         [1.0197],\n",
       "         [1.2747],\n",
       "         ...,\n",
       "         [0.2136],\n",
       "         [0.9517],\n",
       "         [1.8013]]))"
      ]
     },
     "execution_count": 16,
     "metadata": {},
     "output_type": "execute_result"
    }
   ],
   "source": [
    "y_pred = model_2(train_set)\n",
    "y_pred,train_label"
   ]
  },
  {
   "cell_type": "code",
   "execution_count": 17,
   "id": "3854ad18",
   "metadata": {},
   "outputs": [],
   "source": [
    "loss_fn = nn.MSELoss()\n",
    "\n",
    "optimizer = torch.optim.Adam(params = model_2.parameters(), lr=0.05)"
   ]
  },
  {
   "cell_type": "code",
   "execution_count": 18,
   "id": "aa1752b7",
   "metadata": {},
   "outputs": [
    {
     "data": {
      "text/plain": [
       "tensor(0.1844)"
      ]
     },
     "execution_count": 18,
     "metadata": {},
     "output_type": "execute_result"
    }
   ],
   "source": [
    "base_line_loss = loss_fn(train_label,torch.ones_like(train_label))\n",
    "base_line_loss = base_line_loss.detach()\n",
    "base_line_loss"
   ]
  },
  {
   "cell_type": "code",
   "execution_count": 19,
   "id": "5979c732",
   "metadata": {},
   "outputs": [
    {
     "name": "stdout",
     "output_type": "stream",
     "text": [
      "Epoch: 0 | Train Loss : 0.5904871225357056\n",
      "Epoch: 1 | Train Loss : 0.3557177782058716\n",
      "Epoch: 2 | Train Loss : 0.22398093342781067\n",
      "Epoch: 3 | Train Loss : 0.18241925537586212\n",
      "Epoch: 4 | Train Loss : 0.20765309035778046\n",
      "Epoch: 5 | Train Loss : 0.23294907808303833\n",
      "Epoch: 6 | Train Loss : 0.231077641248703\n",
      "Epoch: 7 | Train Loss : 0.21329861879348755\n",
      "Epoch: 8 | Train Loss : 0.19316785037517548\n",
      "Epoch: 9 | Train Loss : 0.17849458754062653\n",
      "Epoch: 10 | Train Loss : 0.1717028170824051\n",
      "Epoch: 11 | Train Loss : 0.17148953676223755\n",
      "Epoch: 12 | Train Loss : 0.17474886775016785\n",
      "Epoch: 13 | Train Loss : 0.17832039296627045\n",
      "Epoch: 14 | Train Loss : 0.18016736209392548\n",
      "Epoch: 15 | Train Loss : 0.17962533235549927\n",
      "Epoch: 16 | Train Loss : 0.17701373994350433\n",
      "Epoch: 17 | Train Loss : 0.1731267124414444\n",
      "Epoch: 18 | Train Loss : 0.16884945333003998\n",
      "Epoch: 19 | Train Loss : 0.16493001580238342\n",
      "Epoch: 20 | Train Loss : 0.16185997426509857\n",
      "Epoch: 21 | Train Loss : 0.15981706976890564\n",
      "Epoch: 22 | Train Loss : 0.15865443646907806\n",
      "Epoch: 23 | Train Loss : 0.1579515039920807\n",
      "Epoch: 24 | Train Loss : 0.15714474022388458\n",
      "Epoch: 25 | Train Loss : 0.15572205185890198\n",
      "Epoch: 26 | Train Loss : 0.1534203141927719\n",
      "Epoch: 27 | Train Loss : 0.15034756064414978\n",
      "Epoch: 28 | Train Loss : 0.14696860313415527\n",
      "Epoch: 29 | Train Loss : 0.1439255028963089\n",
      "Epoch: 30 | Train Loss : 0.141707181930542\n",
      "Epoch: 31 | Train Loss : 0.14027829468250275\n",
      "Epoch: 32 | Train Loss : 0.13895805180072784\n",
      "Epoch: 33 | Train Loss : 0.13685357570648193\n",
      "Epoch: 34 | Train Loss : 0.1336170732975006\n",
      "Epoch: 35 | Train Loss : 0.12980210781097412\n",
      "Epoch: 36 | Train Loss : 0.12642282247543335\n",
      "Epoch: 37 | Train Loss : 0.12398206442594528\n",
      "Epoch: 38 | Train Loss : 0.12183233350515366\n",
      "Epoch: 39 | Train Loss : 0.1188012883067131\n",
      "Epoch: 40 | Train Loss : 0.11463811993598938\n",
      "Epoch: 41 | Train Loss : 0.11053146421909332\n",
      "Epoch: 42 | Train Loss : 0.10762669146060944\n",
      "Epoch: 43 | Train Loss : 0.1048957109451294\n",
      "Epoch: 44 | Train Loss : 0.10056249797344208\n",
      "Epoch: 45 | Train Loss : 0.09560678899288177\n",
      "Epoch: 46 | Train Loss : 0.09200893342494965\n",
      "Epoch: 47 | Train Loss : 0.08861040323972702\n",
      "Epoch: 48 | Train Loss : 0.08430448919534683\n",
      "Epoch: 49 | Train Loss : 0.08168885856866837\n"
     ]
    }
   ],
   "source": [
    "epochs = 50\n",
    "lstm_loss_epoch = []\n",
    "#training loop\n",
    "for epoch in range(epochs):\n",
    "    model_2.train()\n",
    "    y_pred = model_2(train_set)\n",
    "    loss = loss_fn(y_pred,train_label)\n",
    "    lstm_loss_epoch.append(loss.clone().detach())\n",
    "    optimizer.zero_grad()\n",
    "    loss.backward()\n",
    "    optimizer.step()                    \n",
    "    print(f\"Epoch: {epoch} | Train Loss : {loss}\")\n"
   ]
  },
  {
   "cell_type": "code",
   "execution_count": 20,
   "id": "a4c84632",
   "metadata": {},
   "outputs": [
    {
     "name": "stdout",
     "output_type": "stream",
     "text": [
      "after 50 Epochs , Test Loss : 0.0790603831410408\n"
     ]
    }
   ],
   "source": [
    "y_pred = model_2(test_set)\n",
    "lstm_test_loss = loss_fn(y_pred,test_label)\n",
    "print(f\"after {epochs} Epochs , Test Loss : {lstm_test_loss}\")"
   ]
  },
  {
   "cell_type": "markdown",
   "id": "bfef47c0",
   "metadata": {},
   "source": [
    "# GRU"
   ]
  },
  {
   "cell_type": "code",
   "execution_count": 21,
   "id": "fbb2720f",
   "metadata": {},
   "outputs": [],
   "source": [
    "class GRU(nn.Module):\n",
    "    def __init__(self,hidden_size):\n",
    "        super().__init__()\n",
    "        self.h0 = torch.zeros((hidden_size,1),\n",
    "                                        dtype=torch.float)\n",
    "        self.Ui = nn.Parameter(torch.randn((hidden_size,2),\n",
    "                                           requires_grad=True,\n",
    "                                           dtype=torch.float)/np.sqrt(2))\n",
    "        self.Wi = nn.Parameter(torch.randn((hidden_size,hidden_size),\n",
    "                                        requires_grad=True,\n",
    "                                        dtype=torch.float)/np.sqrt(hidden_size))\n",
    "        self.bi = nn.Parameter(torch.zeros((hidden_size,1),\n",
    "                                        requires_grad=True,\n",
    "                                        dtype=torch.float))\n",
    "        self.Uo = nn.Parameter(torch.randn((hidden_size,2),\n",
    "                                           requires_grad=True,\n",
    "                                           dtype=torch.float)/np.sqrt(2))\n",
    "        self.Wo = nn.Parameter(torch.randn((hidden_size,hidden_size),\n",
    "                                        requires_grad=True,\n",
    "                                        dtype=torch.float)/np.sqrt(hidden_size))\n",
    "        self.bo = nn.Parameter(torch.zeros((hidden_size,1),\n",
    "                                        requires_grad=True,\n",
    "                                        dtype=torch.float))\n",
    "        self.V = nn.Parameter(torch.randn((1,hidden_size),\n",
    "                                        requires_grad=True,\n",
    "                                        dtype=torch.float)/np.sqrt(hidden_size))\n",
    "        self.b = nn.Parameter(torch.rand((1,1),\n",
    "                                        requires_grad=True,\n",
    "                                        dtype=torch.float))\n",
    "        self.bc = nn.Parameter(torch.zeros((hidden_size,1),\n",
    "                                        requires_grad=True,\n",
    "                                        dtype=torch.float))\n",
    "        self.Wc = nn.Parameter(torch.randn((hidden_size,hidden_size),\n",
    "                                           requires_grad=True,\n",
    "                                           dtype=torch.float)/np.sqrt(hidden_size))\n",
    "        self.Uc = nn.Parameter(torch.randn((hidden_size,2),\n",
    "                                           requires_grad=True,\n",
    "                                           dtype=torch.float)/np.sqrt(2))\n",
    "    def forward(self,x: torch.Tensor) -> torch.Tensor: # x is the input data\n",
    "        y = torch.empty(x.size(0),1)\n",
    "        for j in range(x.size(0)):\n",
    "            H = self.h0\n",
    "            for i in range(x.size(1)):\n",
    "                if(x[j][i][0] == -1):\n",
    "                    break ;\n",
    "                I = torch.sigmoid(torch.matmul(self.Ui,x[j,i,:].T).unsqueeze(1) + torch.matmul(self.Wi,H) + self.bi)\n",
    "                O = torch.sigmoid(torch.matmul(self.Uo,x[j,i,:].T).unsqueeze(1) + torch.matmul(self.Wo,H) + self.bo)\n",
    "                C_ = torch.tanh(torch.matmul(self.Uc,x[j,i,:].T).unsqueeze(1) + torch.matmul(self.Wc,torch.mul(O,H)) + self.bc)\n",
    "                F = torch.ones_like(I) - I\n",
    "                H = torch.mul(F,H) + torch.mul(I,C_)\n",
    "            Y = torch.matmul(self.V,H) + self.b\n",
    "            y[j,:] = torch.relu(Y)\n",
    "        return y"
   ]
  },
  {
   "cell_type": "code",
   "execution_count": 22,
   "id": "9f5f0e13",
   "metadata": {},
   "outputs": [],
   "source": [
    "model_3 = GRU(5)"
   ]
  },
  {
   "cell_type": "code",
   "execution_count": 23,
   "id": "ae1b6361",
   "metadata": {},
   "outputs": [
    {
     "data": {
      "text/plain": [
       "[Parameter containing:\n",
       " tensor([[-0.8528, -0.6517],\n",
       "         [-0.5682,  0.7040],\n",
       "         [ 0.5939, -0.0688],\n",
       "         [-0.7182, -0.2606],\n",
       "         [-0.5823, -0.4030]], requires_grad=True),\n",
       " Parameter containing:\n",
       " tensor([[ 0.3878,  0.1130, -0.2162, -0.2039,  0.2192],\n",
       "         [ 0.3304,  0.0612,  0.2390, -0.9164,  0.2061],\n",
       "         [-0.2027, -0.6921, -0.4445,  0.1096, -0.2399],\n",
       "         [-0.3560, -0.7073, -0.5434,  0.4670, -0.2671],\n",
       "         [ 0.3197,  0.4551, -0.3421,  0.6758, -0.3371]], requires_grad=True),\n",
       " Parameter containing:\n",
       " tensor([[0.],\n",
       "         [0.],\n",
       "         [0.],\n",
       "         [0.],\n",
       "         [0.]], requires_grad=True),\n",
       " Parameter containing:\n",
       " tensor([[-0.4859, -0.5101],\n",
       "         [-0.6401,  0.8368],\n",
       "         [ 0.5349, -0.1949],\n",
       "         [-0.8448,  0.5656],\n",
       "         [-0.3379, -0.4389]], requires_grad=True),\n",
       " Parameter containing:\n",
       " tensor([[ 0.1669,  0.8808,  0.2277,  0.5167,  0.6532],\n",
       "         [-0.3361,  0.3827, -0.0174, -0.4091,  0.0424],\n",
       "         [-0.7307,  0.1672, -0.6700, -0.0327,  0.5166],\n",
       "         [ 0.1971,  0.2442, -0.5489,  0.1153, -0.2640],\n",
       "         [-0.2336,  0.4733,  0.1925,  0.6340, -0.7650]], requires_grad=True),\n",
       " Parameter containing:\n",
       " tensor([[0.],\n",
       "         [0.],\n",
       "         [0.],\n",
       "         [0.],\n",
       "         [0.]], requires_grad=True),\n",
       " Parameter containing:\n",
       " tensor([[ 0.6220, -0.3040,  0.1334,  0.1059, -0.1246]], requires_grad=True),\n",
       " Parameter containing:\n",
       " tensor([[0.5457]], requires_grad=True),\n",
       " Parameter containing:\n",
       " tensor([[0.],\n",
       "         [0.],\n",
       "         [0.],\n",
       "         [0.],\n",
       "         [0.]], requires_grad=True),\n",
       " Parameter containing:\n",
       " tensor([[ 0.1672, -0.0261, -0.2829,  0.1563, -0.3174],\n",
       "         [ 0.3973, -0.5583,  0.2234, -0.0082,  0.4314],\n",
       "         [-0.0477,  0.7770,  0.8209,  0.2671, -0.4760],\n",
       "         [ 0.2175,  0.2452,  0.2213,  0.8188,  0.0438],\n",
       "         [ 0.5025,  0.1821,  0.7963, -0.0696, -0.8924]], requires_grad=True),\n",
       " Parameter containing:\n",
       " tensor([[ 0.3780, -0.3753],\n",
       "         [-0.0826,  1.6244],\n",
       "         [-0.7662,  0.0612],\n",
       "         [-0.7108,  0.3674],\n",
       "         [-0.1595,  1.3792]], requires_grad=True)]"
      ]
     },
     "execution_count": 23,
     "metadata": {},
     "output_type": "execute_result"
    }
   ],
   "source": [
    "list(model_3.parameters())"
   ]
  },
  {
   "cell_type": "code",
   "execution_count": 24,
   "id": "f14acc90",
   "metadata": {},
   "outputs": [
    {
     "data": {
      "text/plain": [
       "(tensor([[0.5747],\n",
       "         [0.5308],\n",
       "         [0.2721],\n",
       "         ...,\n",
       "         [0.1539],\n",
       "         [0.5797],\n",
       "         [0.3330]], grad_fn=<CopySlices>),\n",
       " tensor([[1.0865],\n",
       "         [1.0197],\n",
       "         [1.2747],\n",
       "         ...,\n",
       "         [0.2136],\n",
       "         [0.9517],\n",
       "         [1.8013]]))"
      ]
     },
     "execution_count": 24,
     "metadata": {},
     "output_type": "execute_result"
    }
   ],
   "source": [
    "y_pred = model_3(train_set)\n",
    "y_pred,train_label"
   ]
  },
  {
   "cell_type": "code",
   "execution_count": 25,
   "id": "f70f447b",
   "metadata": {},
   "outputs": [],
   "source": [
    "loss_fn = nn.MSELoss()\n",
    "\n",
    "optimizer = torch.optim.Adam(params = model_3.parameters(), lr=0.05)"
   ]
  },
  {
   "cell_type": "code",
   "execution_count": 26,
   "id": "f9d3a7e5",
   "metadata": {},
   "outputs": [
    {
     "data": {
      "text/plain": [
       "tensor(0.1844)"
      ]
     },
     "execution_count": 26,
     "metadata": {},
     "output_type": "execute_result"
    }
   ],
   "source": [
    "base_line_loss = loss_fn(train_label,torch.ones_like(train_label))\n",
    "base_line_loss = base_line_loss.detach()\n",
    "base_line_loss"
   ]
  },
  {
   "cell_type": "code",
   "execution_count": 27,
   "id": "546e9258",
   "metadata": {},
   "outputs": [
    {
     "name": "stdout",
     "output_type": "stream",
     "text": [
      "Epoch: 0 | Train Loss : 0.5089631080627441\n",
      "Epoch: 1 | Train Loss : 0.3160495460033417\n",
      "Epoch: 2 | Train Loss : 0.21825718879699707\n",
      "Epoch: 3 | Train Loss : 0.18266621232032776\n",
      "Epoch: 4 | Train Loss : 0.1882137507200241\n",
      "Epoch: 5 | Train Loss : 0.19778107106685638\n",
      "Epoch: 6 | Train Loss : 0.19179770350456238\n",
      "Epoch: 7 | Train Loss : 0.17613354325294495\n",
      "Epoch: 8 | Train Loss : 0.16298739612102509\n",
      "Epoch: 9 | Train Loss : 0.15984131395816803\n",
      "Epoch: 10 | Train Loss : 0.16515909135341644\n",
      "Epoch: 11 | Train Loss : 0.1701856404542923\n",
      "Epoch: 12 | Train Loss : 0.1679716259241104\n",
      "Epoch: 13 | Train Loss : 0.15942654013633728\n",
      "Epoch: 14 | Train Loss : 0.1502341479063034\n",
      "Epoch: 15 | Train Loss : 0.14530235528945923\n",
      "Epoch: 16 | Train Loss : 0.1453002691268921\n",
      "Epoch: 17 | Train Loss : 0.14650769531726837\n",
      "Epoch: 18 | Train Loss : 0.14414672553539276\n",
      "Epoch: 19 | Train Loss : 0.13673800230026245\n",
      "Epoch: 20 | Train Loss : 0.12737643718719482\n",
      "Epoch: 21 | Train Loss : 0.120832160115242\n",
      "Epoch: 22 | Train Loss : 0.11839466542005539\n",
      "Epoch: 23 | Train Loss : 0.11522577702999115\n",
      "Epoch: 24 | Train Loss : 0.10688189417123795\n",
      "Epoch: 25 | Train Loss : 0.09774836897850037\n",
      "Epoch: 26 | Train Loss : 0.0952921211719513\n",
      "Epoch: 27 | Train Loss : 0.0932655930519104\n",
      "Epoch: 28 | Train Loss : 0.08406282961368561\n",
      "Epoch: 29 | Train Loss : 0.07921681553125381\n",
      "Epoch: 30 | Train Loss : 0.07925586402416229\n",
      "Epoch: 31 | Train Loss : 0.0713832825422287\n",
      "Epoch: 32 | Train Loss : 0.06620637327432632\n",
      "Epoch: 33 | Train Loss : 0.06467647105455399\n",
      "Epoch: 34 | Train Loss : 0.05709439143538475\n",
      "Epoch: 35 | Train Loss : 0.05360241234302521\n",
      "Epoch: 36 | Train Loss : 0.052154023200273514\n",
      "Epoch: 37 | Train Loss : 0.04705601558089256\n",
      "Epoch: 38 | Train Loss : 0.04525448754429817\n",
      "Epoch: 39 | Train Loss : 0.04430311918258667\n",
      "Epoch: 40 | Train Loss : 0.04060744121670723\n",
      "Epoch: 41 | Train Loss : 0.03904256597161293\n",
      "Epoch: 42 | Train Loss : 0.037906620651483536\n",
      "Epoch: 43 | Train Loss : 0.034762825816869736\n",
      "Epoch: 44 | Train Loss : 0.03319723531603813\n",
      "Epoch: 45 | Train Loss : 0.03218792751431465\n",
      "Epoch: 46 | Train Loss : 0.0297300573438406\n",
      "Epoch: 47 | Train Loss : 0.028645221143960953\n",
      "Epoch: 48 | Train Loss : 0.027709297835826874\n",
      "Epoch: 49 | Train Loss : 0.02567453309893608\n"
     ]
    }
   ],
   "source": [
    "epochs = 50\n",
    "gru_loss_epoch = []\n",
    "#training\n",
    "for epoch in range(epochs):\n",
    "    model_3.train()\n",
    "    y_pred = model_3(train_set)\n",
    "    loss = loss_fn(y_pred,train_label)\n",
    "    gru_loss_epoch.append(loss.clone().detach())\n",
    "    optimizer.zero_grad()\n",
    "    loss.backward()\n",
    "    optimizer.step()                    \n",
    "    print(f\"Epoch: {epoch} | Train Loss : {loss}\")\n"
   ]
  },
  {
   "cell_type": "code",
   "execution_count": 28,
   "id": "7ddfc8dd",
   "metadata": {},
   "outputs": [
    {
     "name": "stdout",
     "output_type": "stream",
     "text": [
      "after 50 Epochs , Test Loss : 0.024181172251701355\n"
     ]
    }
   ],
   "source": [
    "y_pred = model_3(test_set)\n",
    "gru_test_loss = loss_fn(y_pred,test_label)\n",
    "print(f\"after {epochs} Epochs , Test Loss : {gru_test_loss}\")"
   ]
  },
  {
   "cell_type": "markdown",
   "id": "2282772e",
   "metadata": {},
   "source": [
    "# LEARNING CURVE "
   ]
  },
  {
   "cell_type": "code",
   "execution_count": 29,
   "id": "11ca1526",
   "metadata": {},
   "outputs": [
    {
     "data": {
      "image/png": "[encoded data removed]",
      "text/plain": [
       "<Figure size 700x700 with 1 Axes>"
      ]
     },
     "metadata": {},
     "output_type": "display_data"
    }
   ],
   "source": [
    "plt.figure(figsize=(7,7))\n",
    "plt.plot(epoch_count,gru_loss_epoch,color = \"green\",label = \"trained GRU\")\n",
    "plt.plot(epoch_count,lstm_loss_epoch,color = \"lightsteelblue\",label = \"trained LSTM\")\n",
    "plt.plot(epoch_count,rnn_loss_epoch,color = \"red\",label = \"trained RNN\")\n",
    "plt.plot(epoch_count,base_line,color = \"purple\",label = \"base-line\")\n",
    "plt.title(\"learning curve of Trained GRU vs base-line model\")\n",
    "plt.xlabel(\"epochs\")\n",
    "plt.ylabel(\"Loss\")\n",
    "plt.legend()\n",
    "plt.show()"
   ]
  },
  {
   "cell_type": "code",
   "execution_count": 30,
   "id": "40a3c688",
   "metadata": {},
   "outputs": [
    {
     "data": {
      "text/plain": [
       "tensor(0.1844)"
      ]
     },
     "execution_count": 30,
     "metadata": {},
     "output_type": "execute_result"
    }
   ],
   "source": [
    "base_line_test_loss = loss_fn(test_label,torch.ones_like(test_label))\n",
    "base_line_test_loss = base_line_loss.detach()\n",
    "base_line_test_loss"
   ]
  },
  {
   "cell_type": "markdown",
   "id": "ac73c0e6",
   "metadata": {},
   "source": [
    "# PERFORMANCE OVER TESTING SET"
   ]
  },
  {
   "cell_type": "code",
   "execution_count": 31,
   "id": "8b544c1f",
   "metadata": {},
   "outputs": [
    {
     "data": {
      "text/plain": [
       "Text(0.5, 1.0, 'Performance of Trained models over Testing set')"
      ]
     },
     "execution_count": 31,
     "metadata": {},
     "output_type": "execute_result"
    },
    {
     "data": {
      "image/png": "[encoded data removed]",
      "text/plain": [
       "<Figure size 640x480 with 1 Axes>"
      ]
     },
     "metadata": {},
     "output_type": "display_data"
    }
   ],
   "source": [
    "x = [\"BASELINE\",\"RNN\",\"LSTM\",\"GRU\"]\n",
    "y = [base_line_test_loss.detach(),rnn_test_loss.detach(),lstm_test_loss.detach(),gru_test_loss.detach()]\n",
    "plt.bar(x,y)\n",
    "plt.title(\"Performance of Trained models over Testing set\")"
   ]
  },
  {
   "cell_type": "markdown",
   "id": "cc859d52",
   "metadata": {},
   "source": [
    "# EXPLAINED VARIANCE COMPARISON"
   ]
  },
  {
   "cell_type": "code",
   "execution_count": 32,
   "id": "a0e4c0fe",
   "metadata": {},
   "outputs": [
    {
     "data": {
      "text/plain": [
       "Text(0.5, 1.0, 'Explained variance of Trained models over Testing set')"
      ]
     },
     "execution_count": 32,
     "metadata": {},
     "output_type": "execute_result"
    },
    {
     "data": {
      "image/png": "[encoded data removed]",
      "text/plain": [
       "<Figure size 640x480 with 1 Axes>"
      ]
     },
     "metadata": {},
     "output_type": "display_data"
    }
   ],
   "source": [
    "model_loss = torch.tensor([base_line_test_loss.detach(),rnn_test_loss.detach(),lstm_test_loss.detach(),gru_test_loss.detach()])\n",
    "explained_variance_over_models = 1 - model_loss/base_line_test_loss\n",
    "\n",
    "x = [\"BASELINE\",\"RNN\",\"LSTM\",\"GRU\"]\n",
    "y = [explained_variance_over_models[0],explained_variance_over_models[1],explained_variance_over_models[2],explained_variance_over_models[3]]\n",
    "plt.bar(x,y)\n",
    "plt.title(\"Explained variance of Trained models over Testing set\")"
   ]
  },
  {
   "cell_type": "code",
   "execution_count": 33,
   "id": "334af04b",
   "metadata": {},
   "outputs": [
    {
     "data": {
      "text/plain": [
       "21.479694414138795"
      ]
     },
     "execution_count": 33,
     "metadata": {},
     "output_type": "execute_result"
    }
   ],
   "source": [
    "end = time.time()\n",
    "(end - begin)/60"
   ]
  },
  {
   "cell_type": "code",
   "execution_count": null,
   "id": "34b6010a",
   "metadata": {},
   "outputs": [],
   "source": []
  }
 ],
 "metadata": {
  "kernelspec": {
   "display_name": "Python 3 (ipykernel)",
   "language": "python",
   "name": "python3"
  },
  "language_info": {
   "codemirror_mode": {
    "name": "ipython",
    "version": 3
   },
   "file_extension": ".py",
   "mimetype": "text/x-python",
   "name": "python",
   "nbconvert_exporter": "python",
   "pygments_lexer": "ipython3",
   "version": "3.10.6"
  }
 },
 "nbformat": 4,
 "nbformat_minor": 5
}
