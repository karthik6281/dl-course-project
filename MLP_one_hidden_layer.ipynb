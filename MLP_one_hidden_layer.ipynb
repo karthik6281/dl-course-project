{
  "nbformat": 4,
  "nbformat_minor": 0,
  "metadata": {
    "colab": {
      "provenance": []
    },
    "kernelspec": {
      "name": "python3",
      "display_name": "Python 3"
    },
    "language_info": {
      "name": "python"
    },
    "accelerator": "GPU",
    "gpuClass": "standard"
  },
  "cells": [
    {
      "cell_type": "code",
      "execution_count": 1,
      "metadata": {
        "id": "0EQiYAGrgaBs"
      },
      "outputs": [],
      "source": [
        "import numpy as np\n",
        "import torch\n",
        "import matplotlib.pyplot as plt"
      ]
    },
    {
      "cell_type": "code",
      "source": [
        "#plotting funtion - it takes the entire data and plots the points with label - 1 and label-0 separately\n",
        "#it also plots the data through scatter plots\n",
        "def plot_f(data,labels,title,x,y):\n",
        "    plt.figure(figsize = (14,9))\n",
        "    P = []\n",
        "    Q = []\n",
        "    for i in range(0,len(data)):\n",
        "        list = []\n",
        "        if(labels[i] == 1):\n",
        "            list.append(data[i][0])\n",
        "            list.append(data[i][1])\n",
        "            P.append(list)\n",
        "        else :\n",
        "            list.append(data[i][0])\n",
        "            list.append(data[i][1])\n",
        "            Q.append(list)\n",
        "    P=torch.tensor(P)\n",
        "    Q=torch.tensor(Q)\n",
        "    plt.plot(x,y,'-r',label = 'W')\n",
        "    plt.scatter(P[:,0],P[:,1],s=3)\n",
        "    plt.scatter(Q[:,0],Q[:,1],s=3)\n",
        "    plt.title(title)\n",
        "    plt.grid()\n",
        "    plt.show()"
      ],
      "metadata": {
        "id": "7iziEj-egheO"
      },
      "execution_count": 2,
      "outputs": []
    },
    {
      "cell_type": "code",
      "source": [
        "#initializing radii of two circles and centre of the two circles\n",
        "radius_1 = torch.tensor([6.5])\n",
        "radius_2 = torch.tensor([7])\n",
        "centre = torch.tensor([9,11])"
      ],
      "metadata": {
        "id": "LI1kjokagjNm"
      },
      "execution_count": 3,
      "outputs": []
    },
    {
      "cell_type": "code",
      "source": [
        "#generating points which satisfy the below condition\n",
        "def circle(x,y,r1,r2):\n",
        "    if (x-centre[0])**2 + (y-centre[1])**2 < r1*r1 :\n",
        "        return r1\n",
        "    elif (x-centre[0])**2 + (y-centre[1])**2 > r2*r2 :\n",
        "        return r2\n",
        "    return 0"
      ],
      "metadata": {
        "id": "XM1JTWlZgnZA"
      },
      "execution_count": 4,
      "outputs": []
    },
    {
      "cell_type": "code",
      "source": [
        "# create data function - it generates 3000 points between 0 and 1 and scales it to 20 so that points lie between 0 and 20\n",
        "#then it removes the points which are in between circle of radius_1 and circle of radius_2 with the given centre.\n",
        "def create_data(r1,r2):\n",
        "    data = torch.rand(3000,2)*20\n",
        "    count = 0\n",
        "    X=torch.empty(3000,3).fill_(1)\n",
        "    X_new=torch.empty(3000,3).fill_(1)\n",
        "    Y=torch.ones(3000,1).fill_(1)\n",
        "    X[:,:2]=data\n",
        "    for i in range(0,3000):\n",
        "        val = circle(X[i][0],X[i][1],radius_1,radius_2)\n",
        "        if val == radius_1:\n",
        "            X_new[count][0] = X[i][0]\n",
        "            X_new[count][1] = X[i][1]\n",
        "            Y[count][0] = 1\n",
        "            count = count+1\n",
        "        elif val == radius_2:\n",
        "            X_new[count][0] = X[i][0]\n",
        "            X_new[count][1] = X[i][1]\n",
        "            Y[count][0] = -1\n",
        "            count = count+1\n",
        "    X = torch.tensor\n",
        "    X = X_new[:count,:]\n",
        "    Y = Y[:count]\n",
        "    plot_f(X,Y,'Data points',[],[])\n",
        "    return X,Y"
      ],
      "metadata": {
        "id": "bR3RMeALgpvB"
      },
      "execution_count": 5,
      "outputs": []
    },
    {
      "cell_type": "code",
      "source": [
        "#initializing parameters\n",
        "W1 = torch.rand(5,3) # weights between input layer and hidden layer\n",
        "b1 = torch.rand(5,) #bias at each node of the hidden layer\n",
        "W2 = torch.rand(2,5) # weights between hidden layer and output  layer\n",
        "b2 = torch.rand(2,)# bias at the output node/layer\n",
        "#ReLU\n",
        "def arg_max(Z):\n",
        "    if torch.argmax(Z) == 0 :\n",
        "        return -1\n",
        "    return 1\n",
        "def one_hot_encode(y) :\n",
        "    if y == -1 :\n",
        "        return torch.tensor([1.0,0.0])\n",
        "    return torch.tensor([0.0,1.0])\n",
        "def ReLU(Z):\n",
        "    Z = torch.maximum(Z,torch.zeros_like(Z))\n",
        "    return Z\n",
        "def softmax(Z):\n",
        "    a = torch.exp(Z[0])\n",
        "    b = torch.exp(Z[1])\n",
        "    c = torch.tensor([a/(a+b),b/(a+b)])\n",
        "    return c\n",
        "#forward propagation\n",
        "def forward(W1,b1,W2,b2,X):\n",
        "    Z1 = torch.matmul(W1,X.T) + b1 #weighted sum + bias(considering bias at each node) at the first hidden layer\n",
        "    A1 = ReLU(Z1)\n",
        "    Z2 = torch.matmul(W2,A1) + b2 #weighted sum + bias at the output layer\n",
        "    A2 = softmax(Z2)\n",
        "    return Z1, A1, Z2, A2\n",
        "def backward_prop(Z1, A1, Z2, A2, W1, W2, x, y):#computed backprop analytically and direclty implemented in the code\n",
        "    #initializing derivative of loss wrt to different parameters to 0 and later updating it.\n",
        "    db2 = torch.zeros_like(b2)\n",
        "    db1 = torch.zeros_like(b1)\n",
        "    dW2 = torch.zeros_like(W2)\n",
        "    dW1 = torch.zeros_like(W1)\n",
        "    dZ2 = torch.zeros_like(Z2)\n",
        "    dZ1 = torch.zeros_like(Z1)\n",
        "    y = one_hot_encode(y)\n",
        "    if torch.matmul(A2,y.T) < 1 :\n",
        "        dZ21 = -y[0] +(y[0]+y[1])*A2[0]\n",
        "        dZ22 = -y[1] + (y[1] +y[0])*A2[1]\n",
        "        dZ2 = torch.tensor([dZ21,dZ22])\n",
        "        for i in range(W2.size(0)):\n",
        "            for j in range(W2.size(1)):\n",
        "                dW2[i][j] = dZ2[i]*A1[j]\n",
        "        db2 = dZ2\n",
        "#         db2 = -y #derivative of loss wrt to W1\n",
        "        for i in range(dZ1.size(0)):\n",
        "            if Z1[i] > 0 : \n",
        "                dZ1[i] = 1 #derivative of loss wrt to weighted sum(considering derivative of relu i.e making the dZ1 = 1 when only node fires(with ReLU activation function) fires(Z1) and dZ1 = 0 for other)\n",
        "        for i in range(dW1.size(0)):\n",
        "            for j in range(dW1.size(1)) :\n",
        "                dW1[i][j] = dZ2[0]*x[j]*W2[0][i]*dZ1[i] + dZ2[1]*x[j]*W2[1][i]*dZ1[i] # derivative of loss wrt to W1[i][j]\n",
        "        for i in range(db1.size(0)) :\n",
        "            db1[i] = dZ2[0]*W2[0][i]*dZ1[i] + dZ2[1]*W2[1][i]*dZ1[i] # derivative of loss wrt to b1[i]\n",
        "    return dW1, db1, dW2, db2,dZ1,dZ2\n",
        "\n",
        "#updates the parameters with learning factor of 0.05\n",
        "def update_params(W1, b1, W2, b2, dW1, db1, dW2, db2):\n",
        "    W1 = W1 - 0.01 * dW1\n",
        "    b1 = b1 - 0.01 * db1    \n",
        "    W2 = W2 - 0.01 * dW2  \n",
        "    b2 = b2 - 0.01 * db2    \n",
        "    return W1, b1, W2, b2\n",
        "    "
      ],
      "metadata": {
        "id": "_Asprc1Ugs4e"
      },
      "execution_count": 6,
      "outputs": []
    },
    {
      "cell_type": "code",
      "source": [
        "#stochastic gradient descent\n",
        "def gradient_descent(X, Y,W1,b1,W2,b2,epochs):\n",
        "    for i in range(epochs):\n",
        "        count = 0 # for every epoch it counts the number of correct predicted labels\n",
        "        for j in range(X.size(0)):\n",
        "            Z1, A1, Z2, A2 = forward(W1, b1, W2, b2, X[j])\n",
        "            if  arg_max(A2) == Y[j]:\n",
        "                count = count + 1\n",
        "            dW1, db1, dW2, db2 ,dZ1,dZ2 = backward_prop(Z1, A1, Z2, A2, W1, W2, X[j], Y[j])\n",
        "            W1, b1, W2, b2 = update_params(W1, b1, W2, b2, dW1, db1, dW2, db2)\n",
        "        if i % 5 == 0:#for every 5th iteration calculating the accuracy\n",
        "            print(\"Iteration: \", i)\n",
        "            print(\"Accuracy on training data: \",count/X.size(0))\n",
        "    print(\"Accuracy : \",count/X.size(0))\n",
        "    return W1, b1, W2, b2"
      ],
      "metadata": {
        "id": "sHdnyFQBguyL"
      },
      "execution_count": 7,
      "outputs": []
    },
    {
      "cell_type": "code",
      "source": [
        "X,Y = create_data(radius_1,radius_2)\n",
        "#training data\n",
        "Xtrain = X[0:2000] \n",
        "Ytrain = Y[0:2000]\n",
        "#testing data\n",
        "Xtest = X[2000:]\n",
        "Ytest = Y[2000:]"
      ],
      "metadata": {
        "colab": {
          "base_uri": "https://localhost:8080/",
          "height": 553
        },
        "id": "-DfvXXo0gwhH",
        "outputId": "587e14b2-cb43-4d8f-dfc0-a3c2857be537"
      },
      "execution_count": 8,
      "outputs": [
        {
          "output_type": "display_data",
          "data": {
            "text/plain": [
              "<Figure size 1008x648 with 1 Axes>"
            ],
            "image/png": "[encoded data removed]"
          },
          "metadata": {
            "needs_background": "light"
          }
        }
      ]
    },
    {
      "cell_type": "code",
      "source": [
        "W1, b1, W2, b2 = gradient_descent(Xtrain, Ytrain,W1,b1,W2,b2, 200)\n",
        "print(W1,b1,W2,b2)"
      ],
      "metadata": {
        "colab": {
          "base_uri": "https://localhost:8080/"
        },
        "id": "KDiTPHRMhI-_",
        "outputId": "510bb411-1e71-47d7-f7df-65b14ac9f030"
      },
      "execution_count": 9,
      "outputs": [
        {
          "output_type": "stream",
          "name": "stderr",
          "text": [
            "<ipython-input-6-0e48e352ec3d>:25: UserWarning: The use of `x.T` on tensors of dimension other than 2 to reverse their shape is deprecated and it will throw an error in a future release. Consider `x.mT` to transpose batches of matrices or `x.permute(*torch.arange(x.ndim - 1, -1, -1))` to reverse the dimensions of a tensor. (Triggered internally at ../aten/src/ATen/native/TensorShape.cpp:3277.)\n",
            "  Z1 = torch.matmul(W1,X.T) + b1 #weighted sum + bias(considering bias at each node) at the first hidden layer\n"
          ]
        },
        {
          "output_type": "stream",
          "name": "stdout",
          "text": [
            "Iteration:  0\n",
            "Accuracy on training data:  0.656\n",
            "Iteration:  5\n",
            "Accuracy on training data:  0.743\n",
            "Iteration:  10\n",
            "Accuracy on training data:  0.754\n",
            "Iteration:  15\n",
            "Accuracy on training data:  0.764\n",
            "Iteration:  20\n",
            "Accuracy on training data:  0.764\n",
            "Iteration:  25\n",
            "Accuracy on training data:  0.7625\n",
            "Iteration:  30\n",
            "Accuracy on training data:  0.7675\n",
            "Iteration:  35\n",
            "Accuracy on training data:  0.77\n",
            "Iteration:  40\n",
            "Accuracy on training data:  0.769\n",
            "Iteration:  45\n",
            "Accuracy on training data:  0.771\n",
            "Iteration:  50\n",
            "Accuracy on training data:  0.7725\n",
            "Iteration:  55\n",
            "Accuracy on training data:  0.7835\n",
            "Iteration:  60\n",
            "Accuracy on training data:  0.7865\n",
            "Iteration:  65\n",
            "Accuracy on training data:  0.8005\n",
            "Iteration:  70\n",
            "Accuracy on training data:  0.896\n",
            "Iteration:  75\n",
            "Accuracy on training data:  0.9075\n",
            "Iteration:  80\n",
            "Accuracy on training data:  0.9175\n",
            "Iteration:  85\n",
            "Accuracy on training data:  0.925\n",
            "Iteration:  90\n",
            "Accuracy on training data:  0.93\n",
            "Iteration:  95\n",
            "Accuracy on training data:  0.9375\n",
            "Iteration:  100\n",
            "Accuracy on training data:  0.941\n",
            "Iteration:  105\n",
            "Accuracy on training data:  0.9445\n",
            "Iteration:  110\n",
            "Accuracy on training data:  0.9465\n",
            "Iteration:  115\n",
            "Accuracy on training data:  0.948\n",
            "Iteration:  120\n",
            "Accuracy on training data:  0.947\n",
            "Iteration:  125\n",
            "Accuracy on training data:  0.95\n",
            "Iteration:  130\n",
            "Accuracy on training data:  0.9505\n",
            "Iteration:  135\n",
            "Accuracy on training data:  0.956\n",
            "Iteration:  140\n",
            "Accuracy on training data:  0.958\n",
            "Iteration:  145\n",
            "Accuracy on training data:  0.9585\n",
            "Iteration:  150\n",
            "Accuracy on training data:  0.9595\n",
            "Iteration:  155\n",
            "Accuracy on training data:  0.9605\n",
            "Iteration:  160\n",
            "Accuracy on training data:  0.9615\n",
            "Iteration:  165\n",
            "Accuracy on training data:  0.962\n",
            "Iteration:  170\n",
            "Accuracy on training data:  0.9635\n",
            "Iteration:  175\n",
            "Accuracy on training data:  0.9635\n",
            "Iteration:  180\n",
            "Accuracy on training data:  0.9625\n",
            "Iteration:  185\n",
            "Accuracy on training data:  0.962\n",
            "Iteration:  190\n",
            "Accuracy on training data:  0.962\n",
            "Iteration:  195\n",
            "Accuracy on training data:  0.962\n",
            "Accuracy :  0.9635\n",
            "tensor([[  2.5137,  -2.7087,  -0.4878],\n",
            "        [  0.5786,   1.6008, -12.7648],\n",
            "        [ -0.6815,  -1.0094,   6.1918],\n",
            "        [ -1.1277,  -0.7318,   5.9373],\n",
            "        [ -5.1269,   2.3224,  -1.5390]]) tensor([ -0.9469, -12.7585,   6.1059,   5.7435,  -1.4645]) tensor([[ 0.9271,  0.9141,  1.6525,  2.3685,  1.4526],\n",
            "        [-0.1652, -0.4324, -1.2117, -0.8972,  0.1864]]) tensor([-6.5716,  7.6123])\n"
          ]
        }
      ]
    },
    {
      "cell_type": "code",
      "source": [
        "# calculating accuracy for testing data\n",
        "def accuracy(X,W1,b1,W2,b2,Y) :\n",
        "    count = 0 \n",
        "    for i in range(X.size(0)) :\n",
        "        Z1, A1, Z2, A2 = forward(W1, b1, W2, b2, X[i])\n",
        "        if Y[i] == arg_max(A2) :\n",
        "            count = count + 1\n",
        "    print(\"Accuracy : \",count/X.size(0))"
      ],
      "metadata": {
        "id": "v7beQLpfgyf9"
      },
      "execution_count": 10,
      "outputs": []
    },
    {
      "cell_type": "code",
      "source": [
        "accuracy(Xtest,W1,b1,W2,b2,Ytest)#accuarcy on testing data"
      ],
      "metadata": {
        "colab": {
          "base_uri": "https://localhost:8080/"
        },
        "id": "49PPH8OYg03u",
        "outputId": "7a3ccccf-9d46-4377-fb40-02b3a040cd42"
      },
      "execution_count": 11,
      "outputs": [
        {
          "output_type": "stream",
          "name": "stdout",
          "text": [
            "Accuracy :  0.9294117647058824\n"
          ]
        }
      ]
    },
    {
      "cell_type": "code",
      "source": [
        "# predicting the output from the model trained\n",
        "my_tensor = torch.tensor([5.0,5.0,1])\n",
        "print(my_tensor)\n",
        "Z1, A1, Z2, A2 = forward(W1,b1,W2,b2,my_tensor)\n",
        "print(\"predicted label:\",arg_max(A2))"
      ],
      "metadata": {
        "colab": {
          "base_uri": "https://localhost:8080/"
        },
        "id": "sFs_E2oVg3Sm",
        "outputId": "3e7c80b6-1f03-4eb1-84bc-82fcfea03da5"
      },
      "execution_count": 12,
      "outputs": [
        {
          "output_type": "stream",
          "name": "stdout",
          "text": [
            "tensor([5., 5., 1.])\n",
            "predicted label: -1\n"
          ]
        }
      ]
    },
    {
      "cell_type": "code",
      "source": [],
      "metadata": {
        "id": "qhOIFNGVg5rL"
      },
      "execution_count": 12,
      "outputs": []
    }
  ]
}